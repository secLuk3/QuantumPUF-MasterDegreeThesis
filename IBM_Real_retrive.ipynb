{
 "cells": [
  {
   "cell_type": "code",
   "execution_count": 7,
   "metadata": {},
   "outputs": [],
   "source": [
    "from qiskit import QuantumCircuit\n",
    "from qiskit.transpiler.preset_passmanagers import generate_preset_pass_manager\n",
    "from qiskit_ibm_runtime import QiskitRuntimeService, SamplerV2 as Sampler\n",
    "from qiskit_ibm_provider import IBMProvider\n",
    "import pandas as pd\n",
    "import os\n",
    "import json\n",
    "\n",
    "import matplotlib.pyplot as plt\n",
    "from datetime import datetime\n",
    "\n",
    "import seaborn as sns\n",
    "\n",
    "plt.rcParams.update({'font.size': 14, 'font.family': 'serif', 'mathtext.fontset': 'dejavuserif'})"
   ]
  },
  {
   "cell_type": "code",
   "execution_count": 8,
   "metadata": {},
   "outputs": [
    {
     "name": "stdout",
     "output_type": "stream",
     "text": [
      "[<IBMBackend('ibm_brisbane')>, <IBMBackend('ibm_sherbrooke')>]\n",
      "{0: 'brisbane', 1: 'sherbrooke'}\n",
      "Macchine disponibili:\n",
      "0: brisbane\n",
      "1: sherbrooke\n",
      "Hai scelto l'opzione 3!\n",
      "Macchine selezionate: ['ibm_sherbrooke']\n",
      "Nuovo mapping aggiornato: {0: 'sherbrooke'}\n"
     ]
    }
   ],
   "source": [
    "service = QiskitRuntimeService(channel='ibm_quantum',\n",
    "    instance='ibm-q/open/main',\n",
    "    token='8c865d438487275bb939e03adfb9ebd4c3e3fe4adce788c4655b12b5a938a17de0139cc89d372c60bc9c6037496beb8377f4d84ce30c194bb908ae27047c0d09')\n",
    "# IBM Quantum channel; set to default\n",
    "\n",
    "# Mostro i backend disponibili per l'esecuzione\n",
    "print(service.backends())\n",
    "\n",
    "backend_maps = {\n",
    "    index: backend.name.split('_')[1] for index, backend in enumerate(service.backends())\n",
    "}\n",
    "\n",
    "# Visualizo che i nomi siano corretti \n",
    "print(backend_maps)\n",
    "# Inizializzo il backend array e la mappatura\n",
    "backend_array = []\n",
    "backend_map = {index: backend.name.split('_')[1] for index, backend in enumerate(service.backends(operational=True, simulator=False))}\n",
    "\n",
    "print(\"Macchine disponibili:\")\n",
    "for index, name in backend_map.items():\n",
    "    print(f\"{index}: {name}\")\n",
    "\n",
    "scelta = input(\"Scegli un'opzione (1/2/3): 1 meno occupata, 2 tutte, 3 scegli manualmente \")\n",
    "\n",
    "if scelta == \"1\":\n",
    "    print(\"Hai scelto l'opzione 1!\")\n",
    "    print(\"Scelgo la macchina meno occupata\")\n",
    "    backend = service.least_busy(operational=True, simulator=False, min_num_qubits=127)\n",
    "    backend_array.append(backend)\n",
    "    print(f\"Macchina selezionata: {backend.name}\")\n",
    "\n",
    "elif scelta == \"2\":\n",
    "    print(\"Hai scelto l'opzione 2!\")\n",
    "    backend_array = [service.backend(f\"ibm_{name}\") for name in backend_map.values()]\n",
    "    print(\"Macchine selezionate:\", [backend.name for backend in backend_array])\n",
    "\n",
    "elif scelta == \"3\":\n",
    "    print(\"Hai scelto l'opzione 3!\")\n",
    "    scelte_utente = input(\"Inserisci gli indici delle macchine separate da una virgola: \")\n",
    "    indici = [int(i.strip()) for i in scelte_utente.split(',') if i.strip().isdigit()]\n",
    "    backend_array = []\n",
    "    new_backend_map = {}\n",
    "    for index in indici:\n",
    "        if index in backend_map:\n",
    "            class_name = f\"ibm_{backend_map[index]}\"\n",
    "            try:\n",
    "                backend = service.backend(class_name, instance='ibm-q/open/main')\n",
    "                backend_array.append(backend)\n",
    "                new_backend_map[len(new_backend_map)] = backend.name.split('_')[1]\n",
    "            except Exception as e:\n",
    "                print(f\"Errore nel trovare la macchina '{class_name}': {e}\")\n",
    "    backend_map = new_backend_map\n",
    "    print(\"Macchine selezionate:\", [backend.name for backend in backend_array])\n",
    "    print(\"Nuovo mapping aggiornato:\", backend_map)\n",
    "else:\n",
    "    print(\"Scelta non valida!\")"
   ]
  },
  {
   "cell_type": "code",
   "execution_count": 9,
   "metadata": {},
   "outputs": [],
   "source": [
    "def normalized_fractional_hamming_intradistance(dict1, dict2):\n",
    "    # Verifica se i dizionari hanno le stesse chiavi\n",
    "    if set(dict1.keys()) != set(dict2.keys()):\n",
    "        raise ValueError(\"Response must have the same lenght\")\n",
    "    # Calcola la somma delle differenze assolute tra i valori corrispondenti\n",
    "    sum_diff = sum(abs((dict1[key] - dict2[key])) for key in dict1.keys())\n",
    "    fractional_hamming_distance = sum_diff / 2 #len(dict1) perchè la somma ha come range [0,2] quindi /2 per normalizzare a range [0,1]\n",
    "    return fractional_hamming_distance"
   ]
  },
  {
   "cell_type": "code",
   "execution_count": 10,
   "metadata": {},
   "outputs": [
    {
     "name": "stdout",
     "output_type": "stream",
     "text": [
      "Arrays loaded from './results/configuration_challenges/random_arrays_20.pkl'\n"
     ]
    }
   ],
   "source": [
    "import pickle\n",
    "n_challenge = int(input(\"Inserisci il numero di challenge da utilizzare (10/20): \"))\n",
    "n_qubits = int(input(\"Inserisci il numero di QBITS: \"))\n",
    "shots= int(input(\"Inserisci il numero shots: \"))\n",
    "n_runs = int(input(\"Inserisci il numero di runs \")) \n",
    "\n",
    "# Loading from file (this is the only one file used for all the metrics)\n",
    "file_name = f'./results/configuration_challenges/random_arrays_{n_challenge}.pkl'\n",
    "with open(file_name, 'rb') as f:\n",
    "    a_challenge, b_challenge, c_challenge, d_challenge, e_challenge, f_challenge = pickle.load(f)\n",
    "\n",
    "print(f\"Arrays loaded from '{file_name}'\")"
   ]
  },
  {
   "cell_type": "code",
   "execution_count": 11,
   "metadata": {},
   "outputs": [
    {
     "data": {
      "text/plain": [
       "'def qcirc(i):\\n  # Create a Quantum Circuit\\n  circuit = QuantumCircuit(n_qubits, n_qubits)\\n  #calcolo media response\\n  for j in range(n_qubits):\\n    if j%2==0:\\n      circuit.rx(c_challenge[i][j],j)\\n      circuit.ry(b_challenge[i][j],j)\\n      circuit.rz(a_challenge[i][j],j)\\n    else:\\n      circuit.rx(f_challenge[i][j],j)\\n      circuit.ry(e_challenge[i][j],j)\\n      circuit.rz(d_challenge[i][j],j)\\n      circuit.cz(j,j-1)\\n\\n  for j in range(1,n_qubits-1):\\n    if j%2==1:\\n      circuit.rx(c_challenge[i][j],j)\\n      circuit.ry(b_challenge[i][j],j)\\n      circuit.rz(a_challenge[i][j],j)\\n    else:\\n      circuit.rx(f_challenge[i][j],j)\\n      circuit.ry(e_challenge[i][j],j)\\n      circuit.rz(d_challenge[i][j],j)\\n      circuit.cz(j,j-1)\\n\\n  circuit.barrier()\\n  \\n  for j in range(n_qubits):\\n      if j%2==0:\\n        circuit.rx(c_challenge[i][j],j)\\n      else:\\n        circuit.rx(f_challenge[i][j],j)\\n\\n  circuit.barrier()\\n  circuit.measure(range(n_qubits), range(n_qubits))\\n  #drawing the circuit\\n  name=f\"circuit_real_{n_qubits}_{n_challenge}.png\"\\n  circuit.draw(\\'mpl\\',  filename=name)\\n  return circuit'"
      ]
     },
     "execution_count": 11,
     "metadata": {},
     "output_type": "execute_result"
    }
   ],
   "source": [
    "'''def qcirc(i):\n",
    "  # Create a Quantum Circuit\n",
    "  circuit = QuantumCircuit(n_qubits, n_qubits)\n",
    "  #calcolo media response\n",
    "  for j in range(n_qubits):\n",
    "    if j%2==0:\n",
    "      circuit.rx(c_challenge[i][j],j)\n",
    "      circuit.ry(b_challenge[i][j],j)\n",
    "      circuit.rz(a_challenge[i][j],j)\n",
    "    else:\n",
    "      circuit.rx(f_challenge[i][j],j)\n",
    "      circuit.ry(e_challenge[i][j],j)\n",
    "      circuit.rz(d_challenge[i][j],j)\n",
    "      circuit.cz(j,j-1)\n",
    "\n",
    "  for j in range(1,n_qubits-1):\n",
    "    if j%2==1:\n",
    "      circuit.rx(c_challenge[i][j],j)\n",
    "      circuit.ry(b_challenge[i][j],j)\n",
    "      circuit.rz(a_challenge[i][j],j)\n",
    "    else:\n",
    "      circuit.rx(f_challenge[i][j],j)\n",
    "      circuit.ry(e_challenge[i][j],j)\n",
    "      circuit.rz(d_challenge[i][j],j)\n",
    "      circuit.cz(j,j-1)\n",
    "\n",
    "  circuit.barrier()\n",
    "  \n",
    "  for j in range(n_qubits):\n",
    "      if j%2==0:\n",
    "        circuit.rx(c_challenge[i][j],j)\n",
    "      else:\n",
    "        circuit.rx(f_challenge[i][j],j)\n",
    "\n",
    "  circuit.barrier()\n",
    "  circuit.measure(range(n_qubits), range(n_qubits))\n",
    "  #drawing the circuit\n",
    "  name=f\"circuit_real_{n_qubits}_{n_challenge}.png\"\n",
    "  circuit.draw('mpl',  filename=name)\n",
    "  return circuit'''"
   ]
  },
  {
   "cell_type": "code",
   "execution_count": 12,
   "metadata": {},
   "outputs": [
    {
     "name": "stdout",
     "output_type": "stream",
     "text": [
      "[<IBMBackend('ibm_sherbrooke')>]\n",
      "{0: 'sherbrooke'}\n",
      "Hai scelto l'opzione Venus\n",
      "Backend_sherbrooke salvato correttamente\n"
     ]
    }
   ],
   "source": [
    "def qpuf_ibm(backend):\n",
    "\n",
    "  job = service.job(backend)\n",
    "  result = job.result()\n",
    "  \n",
    "  pub_result = []\n",
    "\n",
    "  for i in range(n_challenge*n_runs):\n",
    "    pub_result.append(result[i].data.c.get_counts())\n",
    "    # da controllare con franco \n",
    "    #print(f\" >> c output register counts: {result[i].data.c.get_counts()}\")\n",
    "  \n",
    "  #lista delle responses formattate\n",
    "  responses=[]\n",
    "  for j in range(len(pub_result)):\n",
    "    #iesima response\n",
    "    response = {}\n",
    "    for i in range(2**n_qubits):\n",
    "      binary_string = format(i, '0' + str(n_qubits) + 'b')\n",
    "      #se trova la combinazione copia il valore e lo divide per il numero dei shots per normalizzarlo tra 0 e 1, altrimenti mette 0\n",
    "      response[binary_string] = pub_result[j].get(binary_string,0)/shots\n",
    "    responses.append(response)\n",
    "  return responses\n",
    "\n",
    "def run_qcirc(i, ibm_retrive):\n",
    "  r=qpuf_ibm(ibm_retrive[i])\n",
    "\n",
    "  #cosi salvo il backend e utilizzo lo stesso per le altre metriche \n",
    "  file_path = f'./results/backend/real/{circuit_type}/backend_{backend_map[i]}_nq{n_qubits}_nc{n_challenge}_s{shots}_nr{n_runs}.json'\n",
    "  with open(file_path, 'w') as json_file:\n",
    "    json.dump(r, json_file)\n",
    "  print(f\"Backend_{backend_map[i]} salvato correttamente\")\n",
    "\n",
    "print(backend_array)\n",
    "print(backend_map)\n",
    "scelta = input(\"Scegli un'opzione (1/2/3/4/5/6/7/8): 1 Earth, 2 Mars, 3 Saturn, 4 Jupiter, 5 Venus, 6 Mercury, 7 Uranus, 8 Uranus-Titania\")\n",
    "if scelta == \"1\":\n",
    "   print(\"Hai scelto l'opzione 1 Earth!\")\n",
    "   circuit_type = 'earth'\n",
    "elif scelta == \"2\":\n",
    "   print(\"Hai scelto l'opzione Mars!\")\n",
    "   circuit_type = 'mars'\n",
    "elif scelta == \"3\":\n",
    "   print(\"Hai scelto l'opzione Saturn\") \n",
    "   circuit_type = 'saturn'\n",
    "elif scelta == \"4\":\n",
    "   print(\"Hai scelto l'opzione Jupiter\") \n",
    "   circuit_type = 'jupiter' \n",
    "elif scelta == \"5\":\n",
    "   print(\"Hai scelto l'opzione Venus\") \n",
    "   circuit_type = 'venus'\n",
    "elif scelta == \"6\":\n",
    "   print(\"Hai scelto l'opzione Mercury\") \n",
    "   circuit_type = 'mercury'\n",
    "elif scelta == \"7\":\n",
    "   print(\"Hai scelto l'opzione Uranus\") \n",
    "   circuit_type = 'uranus'\n",
    "elif scelta == \"8\":\n",
    "   print(\"Hai scelto l'opzione Uranus-Titania\") \n",
    "   circuit_type = 'uranusTitania'\n",
    "\n",
    "ibm_retrive = ['d0m68ch5nwm00085j68g']\n",
    "\n",
    "for i in range(len(backend_array)):\n",
    "  run_qcirc(i, ibm_retrive)"
   ]
  }
 ],
 "metadata": {
  "kernelspec": {
   "display_name": "envTesi",
   "language": "python",
   "name": "python3"
  },
  "language_info": {
   "codemirror_mode": {
    "name": "ipython",
    "version": 3
   },
   "file_extension": ".py",
   "mimetype": "text/x-python",
   "name": "python",
   "nbconvert_exporter": "python",
   "pygments_lexer": "ipython3",
   "version": "3.11.6"
  }
 },
 "nbformat": 4,
 "nbformat_minor": 2
}
